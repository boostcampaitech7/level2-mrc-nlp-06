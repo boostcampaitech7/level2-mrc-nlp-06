{
 "cells": [
  {
   "cell_type": "markdown",
   "metadata": {},
   "source": [
    "### 클래스 선언\n",
    "- data_path: dataset이 위치한 폴더명  \n",
    "- model: 모델이 저장된 폴더 또는 hugging face의 모델 uid  \n",
    "  - BiEncoder는 SentenceTransformer로 불러올 수 있는 모델들  \n",
    "  - CrossEncoder_는 AutoModel로 불러올 수 있는 모델들"
   ]
  },
  {
   "cell_type": "code",
   "execution_count": 1,
   "metadata": {},
   "outputs": [],
   "source": [
    "from sbert import BiEncoder, CrossEncoder_\n",
    "\n",
    "DATA_PATH = \"\"\n",
    "MODEL_PATH = \"\"\n",
    "retriever = BiEncoder(data_path=DATA_PATH, model=MODEL_PATH)\n",
    "reranker = CrossEncoder_(data_path=DATA_PATH, model=MODEL_PATH)"
   ]
  },
  {
   "cell_type": "markdown",
   "metadata": {},
   "source": [
    "### BiEncoder 클래스의 함수 설명\n",
    "**`train`**  \n",
    "- output_dir: 학습한 모델을 저장할 폴더의 경로(없으면 생성해줌) default: `./sbert-bi-encoder`  \n",
    "- epoch: default 5\n",
    "- batch_size: defualt 32\n",
    "- lr: default 2e-5\n",
    "- weight_decay: default 0.01\n",
    "\n",
    "**`validate`**  \n",
    "- data_type: `train`, `valid` 중 검증할 대상\n",
    "- topk 개수를 설정하고 싶다면 [sbert.py](./sbert.py)에서 수정하기  \n",
    "\n",
    "**`retrieve`**  \n",
    "- data_type: `train`, `valid`, `test` 중 retrieval을 수행할 대상\n",
    "- stage: retrieval만 수행하려면 1(DataFrame 반환), re-rank로 연결하려면 2(document_id와 score의 dict 반환)\n",
    "- topk: query 당 상위 몇 개의 문서를 반환할 것인지\n",
    "\n",
    "**`save_corpus_embeddings`**  \n",
    "- save_path: corpus의 embedding vector를 pt 파일로 저장할 경로"
   ]
  },
  {
   "cell_type": "code",
   "execution_count": null,
   "metadata": {},
   "outputs": [],
   "source": [
    "retriever.train()\n",
    "retriever.validate('valid')\n",
    "retriever.retrieve(data_type='test', stage=1, topk=5)\n",
    "retriever.save_corpus_embeddings('./')"
   ]
  },
  {
   "cell_type": "markdown",
   "metadata": {},
   "source": [
    "### CrossEncoder_ 함수 설명\n",
    "> 기존의 CrossEncoder 클래스 이름과 겹쳐 `_` 추가  \n",
    "\n",
    "**`train`**  \n",
    "- output_dir: 학습한 모델을 저장할 폴더의 경로(없으면 생성해줌) default: `./sbert-cross-encoder`  \n",
    "- epoch: default 5\n",
    "- batch_size: defualt 32\n",
    "- weight_decay: default 0.01\n",
    "- lr은 CrossEncoder 클래스에서 초기화를 지원하지 않는 듯함\n",
    "\n",
    "**`validate`**  \n",
    "- data_type: `train`, `valid` 중 검증할 대상\n",
    "- topk: query 당 상위 몇 개의 문서를 반환할 것인지  \n",
    "CrossEncoder 클래스의 rank 함수를 사용하는데, 전체 corpus를 대상으로 하기 때문에 아주 오래 걸림(시도하지 않는 것 추천)  \n",
    "\n",
    "**`retrieve`**  \n",
    "CrossEncoder_만으로 retrieval을 수행할 때 사용하는 함수로, DataFrame을 반환  \n",
    "- data_type: `train`, `valid`, `test` 중 retrieval을 수행할 대상\n",
    "- topk: query 당 상위 몇 개의 문서를 반환할 것인지\n",
    "\n",
    "**`rerank`**  \n",
    "BiEncoder에서 얻은 결과로 re-ranking을 수행할 때 사용하는 함수로, DataFrame을 반환  \n",
    "- hits: BiEncoder에서 `retrieve(stage=2)`를 수행하고 얻은 결과  \n",
    "- data_type: `train`, `valid`, `test` 중 reranking을 수행할 대상으로, `retrieve(data_type='')`에서 사용한 값과 일치해야 함  \n",
    "- topk: query 당 상위 몇 개의 문서를 반환할 것인지를 결정하며, 일반적으로 retrieval에서 100, reranking에서 10으로 설정\n",
    "\n",
    "**`save_corpus_embeddings`**  \n",
    "corpus의 embedding vector를 저장하고자 했으나, CrossEncoder에서 지원하는 기능이 아닌 듯하여 추후 방법을 찾으면 업데이트 예정"
   ]
  },
  {
   "cell_type": "code",
   "execution_count": null,
   "metadata": {},
   "outputs": [],
   "source": [
    "reranker.train()\n",
    "reranker.validate('valid')\n",
    "reranker.retrieve(data_type='valid', topk=5)\n",
    "\n",
    "# 2-stages\n",
    "hits = retriever.retrieve(data_type='valid', stage=2, topk=5)\n",
    "reranker.rerank(hits, data_type='valid', topk=3)"
   ]
  }
 ],
 "metadata": {
  "kernelspec": {
   "display_name": "base",
   "language": "python",
   "name": "python3"
  },
  "language_info": {
   "codemirror_mode": {
    "name": "ipython",
    "version": 3
   },
   "file_extension": ".py",
   "mimetype": "text/x-python",
   "name": "python",
   "nbconvert_exporter": "python",
   "pygments_lexer": "ipython3",
   "version": "3.10.13"
  }
 },
 "nbformat": 4,
 "nbformat_minor": 2
}
