{
 "cells": [
  {
   "cell_type": "code",
   "execution_count": 1,
   "metadata": {},
   "outputs": [
    {
     "name": "stdout",
     "output_type": "stream",
     "text": [
      "Requirement already satisfied: datasets in c:\\users\\black\\appdata\\local\\programs\\python\\python310\\lib\\site-packages (2.19.2)\n",
      "Requirement already satisfied: filelock in c:\\users\\black\\appdata\\local\\programs\\python\\python310\\lib\\site-packages (from datasets) (3.16.1)\n",
      "Requirement already satisfied: numpy>=1.17 in c:\\users\\black\\appdata\\local\\programs\\python\\python310\\lib\\site-packages (from datasets) (1.23.4)\n",
      "Requirement already satisfied: pyarrow>=12.0.0 in c:\\users\\black\\appdata\\local\\programs\\python\\python310\\lib\\site-packages (from datasets) (17.0.0)\n",
      "Requirement already satisfied: pyarrow-hotfix in c:\\users\\black\\appdata\\local\\programs\\python\\python310\\lib\\site-packages (from datasets) (0.6)\n",
      "Requirement already satisfied: dill<0.3.9,>=0.3.0 in c:\\users\\black\\appdata\\local\\programs\\python\\python310\\lib\\site-packages (from datasets) (0.3.8)\n",
      "Requirement already satisfied: pandas in c:\\users\\black\\appdata\\local\\programs\\python\\python310\\lib\\site-packages (from datasets) (2.2.2)\n",
      "Requirement already satisfied: requests>=2.32.1 in c:\\users\\black\\appdata\\local\\programs\\python\\python310\\lib\\site-packages (from datasets) (2.32.3)\n",
      "Requirement already satisfied: tqdm>=4.62.1 in c:\\users\\black\\appdata\\local\\programs\\python\\python310\\lib\\site-packages (from datasets) (4.66.5)\n",
      "Requirement already satisfied: xxhash in c:\\users\\black\\appdata\\local\\programs\\python\\python310\\lib\\site-packages (from datasets) (3.5.0)\n",
      "Requirement already satisfied: multiprocess in c:\\users\\black\\appdata\\local\\programs\\python\\python310\\lib\\site-packages (from datasets) (0.70.16)\n",
      "Requirement already satisfied: fsspec[http]<=2024.3.1,>=2023.1.0 in c:\\users\\black\\appdata\\local\\programs\\python\\python310\\lib\\site-packages (from datasets) (2024.3.1)\n",
      "Requirement already satisfied: aiohttp in c:\\users\\black\\appdata\\local\\programs\\python\\python310\\lib\\site-packages (from datasets) (3.10.5)\n",
      "Requirement already satisfied: huggingface-hub>=0.21.2 in c:\\users\\black\\appdata\\local\\programs\\python\\python310\\lib\\site-packages (from datasets) (0.25.0)\n",
      "Requirement already satisfied: packaging in c:\\users\\black\\appdata\\local\\programs\\python\\python310\\lib\\site-packages (from datasets) (21.3)\n",
      "Requirement already satisfied: pyyaml>=5.1 in c:\\users\\black\\appdata\\local\\programs\\python\\python310\\lib\\site-packages (from datasets) (6.0)\n",
      "Requirement already satisfied: aiohappyeyeballs>=2.3.0 in c:\\users\\black\\appdata\\local\\programs\\python\\python310\\lib\\site-packages (from aiohttp->datasets) (2.4.0)\n",
      "Requirement already satisfied: aiosignal>=1.1.2 in c:\\users\\black\\appdata\\local\\programs\\python\\python310\\lib\\site-packages (from aiohttp->datasets) (1.3.1)\n",
      "Requirement already satisfied: attrs>=17.3.0 in c:\\users\\black\\appdata\\local\\programs\\python\\python310\\lib\\site-packages (from aiohttp->datasets) (22.2.0)\n",
      "Requirement already satisfied: frozenlist>=1.1.1 in c:\\users\\black\\appdata\\local\\programs\\python\\python310\\lib\\site-packages (from aiohttp->datasets) (1.4.1)\n",
      "Requirement already satisfied: multidict<7.0,>=4.5 in c:\\users\\black\\appdata\\local\\programs\\python\\python310\\lib\\site-packages (from aiohttp->datasets) (6.1.0)\n",
      "Requirement already satisfied: yarl<2.0,>=1.0 in c:\\users\\black\\appdata\\local\\programs\\python\\python310\\lib\\site-packages (from aiohttp->datasets) (1.11.1)\n",
      "Requirement already satisfied: async-timeout<5.0,>=4.0 in c:\\users\\black\\appdata\\local\\programs\\python\\python310\\lib\\site-packages (from aiohttp->datasets) (4.0.3)\n",
      "Requirement already satisfied: typing-extensions>=3.7.4.3 in c:\\users\\black\\appdata\\local\\programs\\python\\python310\\lib\\site-packages (from huggingface-hub>=0.21.2->datasets) (4.12.2)\n",
      "Requirement already satisfied: pyparsing!=3.0.5,>=2.0.2 in c:\\users\\black\\appdata\\local\\programs\\python\\python310\\lib\\site-packages (from packaging->datasets) (3.0.9)\n",
      "Requirement already satisfied: charset-normalizer<4,>=2 in c:\\users\\black\\appdata\\local\\programs\\python\\python310\\lib\\site-packages (from requests>=2.32.1->datasets) (2.1.1)\n",
      "Requirement already satisfied: idna<4,>=2.5 in c:\\users\\black\\appdata\\local\\programs\\python\\python310\\lib\\site-packages (from requests>=2.32.1->datasets) (3.4)\n",
      "Requirement already satisfied: urllib3<3,>=1.21.1 in c:\\users\\black\\appdata\\local\\programs\\python\\python310\\lib\\site-packages (from requests>=2.32.1->datasets) (1.26.12)\n",
      "Requirement already satisfied: certifi>=2017.4.17 in c:\\users\\black\\appdata\\local\\programs\\python\\python310\\lib\\site-packages (from requests>=2.32.1->datasets) (2022.9.24)\n",
      "Requirement already satisfied: colorama in c:\\users\\black\\appdata\\local\\programs\\python\\python310\\lib\\site-packages (from tqdm>=4.62.1->datasets) (0.4.6)\n",
      "Requirement already satisfied: python-dateutil>=2.8.2 in c:\\users\\black\\appdata\\local\\programs\\python\\python310\\lib\\site-packages (from pandas->datasets) (2.8.2)\n",
      "Requirement already satisfied: pytz>=2020.1 in c:\\users\\black\\appdata\\local\\programs\\python\\python310\\lib\\site-packages (from pandas->datasets) (2024.2)\n",
      "Requirement already satisfied: tzdata>=2022.7 in c:\\users\\black\\appdata\\local\\programs\\python\\python310\\lib\\site-packages (from pandas->datasets) (2024.1)\n",
      "Requirement already satisfied: six>=1.5 in c:\\users\\black\\appdata\\local\\programs\\python\\python310\\lib\\site-packages (from python-dateutil>=2.8.2->pandas->datasets) (1.16.0)\n"
     ]
    },
    {
     "name": "stderr",
     "output_type": "stream",
     "text": [
      "\n",
      "[notice] A new release of pip is available: 23.2.1 -> 24.2\n",
      "[notice] To update, run: python.exe -m pip install --upgrade pip\n"
     ]
    }
   ],
   "source": [
    "!pip install datasets"
   ]
  },
  {
   "cell_type": "code",
   "execution_count": 2,
   "metadata": {},
   "outputs": [],
   "source": [
    "from datasets import load_from_disk\n",
    "import numpy as np\n",
    "import pandas as pd\n",
    "import matplotlib.pyplot as plt\n",
    "import random\n",
    "from collections import Counter\n",
    "import re\n",
    "import json\n"
   ]
  },
  {
   "cell_type": "code",
   "execution_count": 3,
   "metadata": {},
   "outputs": [],
   "source": [
    "# pandas datasframe으로 변환 및 필요한 컬럼만 추출하는 함수\n",
    "def dataset_to_df(dataset):\n",
    "  data_list = []\n",
    "\n",
    "  for data in dataset:\n",
    "        data_list.append({\n",
    "            'title': data[\"title\"],\n",
    "            \"context\": data[\"context\"],\n",
    "            \"question\": data[\"question\"],\n",
    "            \"id\": data[\"id\"],\n",
    "            \"answers\": data[\"answers\"],\n",
    "            \"document_id\": data[\"document_id\"],\n",
    "            \"__index_level_0__\": data[\"__index_level_0__\"]\n",
    "          })  \n",
    "  df = pd.DataFrame(data_list)\n",
    "  return df\n",
    "def dataset_to_dftest(dataset):\n",
    "  data_list = []\n",
    "\n",
    "  for data in dataset:\n",
    "    data_list.append({\n",
    "        'question' : data[\"question\"],\n",
    "        \"id\" : data[\"id\"],\n",
    "   \n",
    "    })\n",
    "  df = pd.DataFrame(data_list)\n",
    "  return df\n",
    "\n",
    "\n"
   ]
  },
  {
   "cell_type": "code",
   "execution_count": 4,
   "metadata": {},
   "outputs": [],
   "source": [
    "import re\n",
    "from collections import Counter\n",
    "\n",
    "def count_markdown_elements(data_samples):\n",
    "    total_counts = Counter()\n",
    "    \n",
    "    for data in data_samples:\n",
    "        markdown_elements = {\n",
    "            'headers': len(re.findall(r'^#{1,6}\\s', data, re.MULTILINE)),\n",
    "            'bold': len(re.findall(r'\\*\\*.*?\\*\\*', data)),\n",
    "            'italic': len(re.findall(r'\\*.*?\\*', data)),\n",
    "            'code_blocks': len(re.findall(r'```[\\s\\S]*?```', data)),\n",
    "            'inline_code': len(re.findall(r'`[^`\\n]+`', data)),\n",
    "            'links': len(re.findall(r'\\[.*?\\]\\(.*?\\)', data)),\n",
    "            'lists': len(re.findall(r'^\\s*[-*+]\\s+\\S', data, re.MULTILINE))\n",
    "        }\n",
    "        total_counts.update(markdown_elements)\n",
    "    \n",
    "    return dict(total_counts)\n",
    "\n",
    "# 사용 예시\n",
    "# markdown_counts = count_markdown_elements(df['text'])\n",
    "# print(markdown_counts)"
   ]
  },
  {
   "cell_type": "code",
   "execution_count": 5,
   "metadata": {},
   "outputs": [],
   "source": [
    "def remove_markdown(text): #마크 다운 삭제\n",
    "    # 헤더 제거\n",
    "    text = re.sub(r'^#{1,6}\\s', '', text, flags=re.MULTILINE)\n",
    "    # 볼드체 제거\n",
    "    text = re.sub(r'\\*\\*(.*?)\\*\\*', r'\\1', text)\n",
    "    # 이탤릭체 제거\n",
    "    text = re.sub(r'\\*(.*?)\\*', r'\\1', text)\n",
    "    # 코드 블록 제거\n",
    "    text = re.sub(r'```[\\s\\S]*?```', '', text)\n",
    "    # 인라인 코드 제거\n",
    "    text = re.sub(r'`([^`\\n]+)`', r'\\1', text)\n",
    "    # 링크 제거 (텍스트만 유지)\n",
    "    text = re.sub(r'\\[(.*?)\\]\\(.*?\\)', r'\\1', text)\n",
    "    # 리스트 기호 제거\n",
    "    text = re.sub(r'^\\s*[-*+]\\s', '', text, flags=re.MULTILINE)\n",
    "    return text.strip()"
   ]
  },
  {
   "cell_type": "code",
   "execution_count": 6,
   "metadata": {},
   "outputs": [],
   "source": [
    "# 개행 문자 카운트 함수 (정휘님  \\\\n 뿐만 아니라 \\n 도 있었던거 같아 확인하기)\n",
    "def get_newline(data_samples):\n",
    "    all_lines = []\n",
    "    for i,data in enumerate(data_samples):\n",
    "        new_line_count = data.count(\"\\\\n\")\n",
    "        new1_line_count = data.count(\"\\n\")\n",
    "        all_lines.append([i, new_line_count,new1_line_count])\n",
    "    return all_lines"
   ]
  },
  {
   "cell_type": "code",
   "execution_count": 7,
   "metadata": {},
   "outputs": [],
   "source": [
    "path = \"../data/train_dataset/\"\n",
    "dataset = load_from_disk(path)"
   ]
  },
  {
   "cell_type": "code",
   "execution_count": 8,
   "metadata": {},
   "outputs": [
    {
     "name": "stdout",
     "output_type": "stream",
     "text": [
      "DatasetDict({\n",
      "    train: Dataset({\n",
      "        features: ['title', 'context', 'question', 'id', 'answers', 'document_id', '__index_level_0__'],\n",
      "        num_rows: 3952\n",
      "    })\n",
      "    validation: Dataset({\n",
      "        features: ['title', 'context', 'question', 'id', 'answers', 'document_id', '__index_level_0__'],\n",
      "        num_rows: 240\n",
      "    })\n",
      "})\n"
     ]
    }
   ],
   "source": [
    "print(dataset)"
   ]
  },
  {
   "cell_type": "code",
   "execution_count": 9,
   "metadata": {},
   "outputs": [],
   "source": [
    "def load_wikipedia_data(file_path):\n",
    "    with open(file_path, \"r\", encoding=\"utf-8\") as f:\n",
    "        wiki = json.load(f)"
   ]
  },
  {
   "cell_type": "code",
   "execution_count": 10,
   "metadata": {},
   "outputs": [
    {
     "data": {
      "text/html": [
       "<div>\n",
       "<style scoped>\n",
       "    .dataframe tbody tr th:only-of-type {\n",
       "        vertical-align: middle;\n",
       "    }\n",
       "\n",
       "    .dataframe tbody tr th {\n",
       "        vertical-align: top;\n",
       "    }\n",
       "\n",
       "    .dataframe thead th {\n",
       "        text-align: right;\n",
       "    }\n",
       "</style>\n",
       "<table border=\"1\" class=\"dataframe\">\n",
       "  <thead>\n",
       "    <tr style=\"text-align: right;\">\n",
       "      <th></th>\n",
       "      <th>text</th>\n",
       "      <th>corpus_source</th>\n",
       "      <th>url</th>\n",
       "      <th>domain</th>\n",
       "      <th>title</th>\n",
       "      <th>author</th>\n",
       "      <th>html</th>\n",
       "      <th>document_id</th>\n",
       "    </tr>\n",
       "  </thead>\n",
       "  <tbody>\n",
       "    <tr>\n",
       "      <th>0</th>\n",
       "      <td>이 문서는 나라 목록이며, 전 세계 206개 나라의 각 현황과 주권 승인 정보를 개...</td>\n",
       "      <td>위키피디아</td>\n",
       "      <td>TODO</td>\n",
       "      <td>None</td>\n",
       "      <td>나라 목록</td>\n",
       "      <td>None</td>\n",
       "      <td>None</td>\n",
       "      <td>0</td>\n",
       "    </tr>\n",
       "    <tr>\n",
       "      <th>1</th>\n",
       "      <td>이 목록에 실린 국가 기준은 1933년 몬테비데오 협약 1장을 참고로 하였다. 협정...</td>\n",
       "      <td>위키피디아</td>\n",
       "      <td>TODO</td>\n",
       "      <td>None</td>\n",
       "      <td>나라 목록</td>\n",
       "      <td>None</td>\n",
       "      <td>None</td>\n",
       "      <td>1</td>\n",
       "    </tr>\n",
       "    <tr>\n",
       "      <th>2</th>\n",
       "      <td>현 서울특별시 종로구 서린동 (구 일제 강점기 경기도 경성부 서린정) 출신이다. 친...</td>\n",
       "      <td>위키피디아</td>\n",
       "      <td>TODO</td>\n",
       "      <td>None</td>\n",
       "      <td>백남준</td>\n",
       "      <td>None</td>\n",
       "      <td>None</td>\n",
       "      <td>2</td>\n",
       "    </tr>\n",
       "    <tr>\n",
       "      <th>3</th>\n",
       "      <td>아오조라 문고(靑空文庫, あおぞらぶんこ|아오조라 분고)는 ‘일본어판 구텐베르크 프로...</td>\n",
       "      <td>위키피디아</td>\n",
       "      <td>TODO</td>\n",
       "      <td>None</td>\n",
       "      <td>아오조라 문고</td>\n",
       "      <td>None</td>\n",
       "      <td>None</td>\n",
       "      <td>3</td>\n",
       "    </tr>\n",
       "    <tr>\n",
       "      <th>4</th>\n",
       "      <td>저자 사망 이후 50년이 지나 저작권이 소멸한 메이지 시대부터 쇼와 시대 초기까지의...</td>\n",
       "      <td>위키피디아</td>\n",
       "      <td>TODO</td>\n",
       "      <td>None</td>\n",
       "      <td>아오조라 문고</td>\n",
       "      <td>None</td>\n",
       "      <td>None</td>\n",
       "      <td>4</td>\n",
       "    </tr>\n",
       "  </tbody>\n",
       "</table>\n",
       "</div>"
      ],
      "text/plain": [
       "                                                text corpus_source   url  \\\n",
       "0  이 문서는 나라 목록이며, 전 세계 206개 나라의 각 현황과 주권 승인 정보를 개...         위키피디아  TODO   \n",
       "1  이 목록에 실린 국가 기준은 1933년 몬테비데오 협약 1장을 참고로 하였다. 협정...         위키피디아  TODO   \n",
       "2  현 서울특별시 종로구 서린동 (구 일제 강점기 경기도 경성부 서린정) 출신이다. 친...         위키피디아  TODO   \n",
       "3  아오조라 문고(靑空文庫, あおぞらぶんこ|아오조라 분고)는 ‘일본어판 구텐베르크 프로...         위키피디아  TODO   \n",
       "4  저자 사망 이후 50년이 지나 저작권이 소멸한 메이지 시대부터 쇼와 시대 초기까지의...         위키피디아  TODO   \n",
       "\n",
       "  domain    title author  html document_id  \n",
       "0   None    나라 목록   None  None           0  \n",
       "1   None    나라 목록   None  None           1  \n",
       "2   None      백남준   None  None           2  \n",
       "3   None  아오조라 문고   None  None           3  \n",
       "4   None  아오조라 문고   None  None           4  "
      ]
     },
     "execution_count": 10,
     "metadata": {},
     "output_type": "execute_result"
    }
   ],
   "source": [
    "# wikipedia 데이터 불러오기\n",
    "with open(\".json\", \"r\", encoding=\"utf-8\") as f:\n",
    "    wiki = json.load(f)\n",
    "\n",
    "wiki = pd.DataFrame(wiki)\n",
    "wiki = wiki.transpose() # 필요한 column만 남기기\n",
    "wiki.head()"
   ]
  },
  {
   "cell_type": "code",
   "execution_count": 11,
   "metadata": {},
   "outputs": [],
   "source": [
    "train_df = dataset_to_df(dataset[\"train\"])"
   ]
  },
  {
   "cell_type": "code",
   "execution_count": 12,
   "metadata": {},
   "outputs": [
    {
     "data": {
      "text/html": [
       "<div>\n",
       "<style scoped>\n",
       "    .dataframe tbody tr th:only-of-type {\n",
       "        vertical-align: middle;\n",
       "    }\n",
       "\n",
       "    .dataframe tbody tr th {\n",
       "        vertical-align: top;\n",
       "    }\n",
       "\n",
       "    .dataframe thead th {\n",
       "        text-align: right;\n",
       "    }\n",
       "</style>\n",
       "<table border=\"1\" class=\"dataframe\">\n",
       "  <thead>\n",
       "    <tr style=\"text-align: right;\">\n",
       "      <th></th>\n",
       "      <th>title</th>\n",
       "      <th>context</th>\n",
       "      <th>question</th>\n",
       "      <th>id</th>\n",
       "      <th>answers</th>\n",
       "      <th>document_id</th>\n",
       "      <th>__index_level_0__</th>\n",
       "    </tr>\n",
       "  </thead>\n",
       "  <tbody>\n",
       "    <tr>\n",
       "      <th>0</th>\n",
       "      <td>미국 상원</td>\n",
       "      <td>미국 상의원 또는 미국 상원(United States Senate)은 양원제인 미국...</td>\n",
       "      <td>대통령을 포함한 미국의 행정부 견제권을 갖는 국가 기관은?</td>\n",
       "      <td>mrc-1-000067</td>\n",
       "      <td>{'answer_start': [235], 'text': ['하원']}</td>\n",
       "      <td>18293</td>\n",
       "      <td>42</td>\n",
       "    </tr>\n",
       "    <tr>\n",
       "      <th>1</th>\n",
       "      <td>인사조직관리</td>\n",
       "      <td>'근대적 경영학' 또는 '고전적 경영학'에서 현대적 경영학으로 전환되는 시기는 19...</td>\n",
       "      <td>현대적 인사조직관리의 시발점이 된 책은?</td>\n",
       "      <td>mrc-0-004397</td>\n",
       "      <td>{'answer_start': [212], 'text': ['《경영의 실제》']}</td>\n",
       "      <td>51638</td>\n",
       "      <td>2873</td>\n",
       "    </tr>\n",
       "    <tr>\n",
       "      <th>2</th>\n",
       "      <td>강희제</td>\n",
       "      <td>강희제는 강화된 황권으로 거의 황제 중심의 독단적으로 나라를 이끌어 갔기에 자칫 전...</td>\n",
       "      <td>강희제가 1717년에 쓴 글은 누구를 위해 쓰여졌는가?</td>\n",
       "      <td>mrc-1-000362</td>\n",
       "      <td>{'answer_start': [510], 'text': ['백성']}</td>\n",
       "      <td>5028</td>\n",
       "      <td>230</td>\n",
       "    </tr>\n",
       "    <tr>\n",
       "      <th>3</th>\n",
       "      <td>금동삼존불감</td>\n",
       "      <td>불상을 모시기 위해 나무나 돌, 쇠 등을 깎아 일반적인 건축물보다 작은 규모로 만든...</td>\n",
       "      <td>11~12세기에 제작된 본존불은 보통 어떤 나라의 특징이 전파되었나요?</td>\n",
       "      <td>mrc-0-001510</td>\n",
       "      <td>{'answer_start': [625], 'text': ['중국']}</td>\n",
       "      <td>34146</td>\n",
       "      <td>992</td>\n",
       "    </tr>\n",
       "    <tr>\n",
       "      <th>4</th>\n",
       "      <td>계사명 사리구</td>\n",
       "      <td>동아대학교박물관에서 소장하고 있는 계사명 사리구는 총 4개의 용기로 구성된 조선후기...</td>\n",
       "      <td>명문이 적힌 유물을 구성하는 그릇의 총 개수는?</td>\n",
       "      <td>mrc-0-000823</td>\n",
       "      <td>{'answer_start': [30], 'text': ['4개']}</td>\n",
       "      <td>47334</td>\n",
       "      <td>548</td>\n",
       "    </tr>\n",
       "  </tbody>\n",
       "</table>\n",
       "</div>"
      ],
      "text/plain": [
       "     title                                            context  \\\n",
       "0    미국 상원  미국 상의원 또는 미국 상원(United States Senate)은 양원제인 미국...   \n",
       "1   인사조직관리  '근대적 경영학' 또는 '고전적 경영학'에서 현대적 경영학으로 전환되는 시기는 19...   \n",
       "2      강희제  강희제는 강화된 황권으로 거의 황제 중심의 독단적으로 나라를 이끌어 갔기에 자칫 전...   \n",
       "3   금동삼존불감  불상을 모시기 위해 나무나 돌, 쇠 등을 깎아 일반적인 건축물보다 작은 규모로 만든...   \n",
       "4  계사명 사리구  동아대학교박물관에서 소장하고 있는 계사명 사리구는 총 4개의 용기로 구성된 조선후기...   \n",
       "\n",
       "                                  question            id  \\\n",
       "0         대통령을 포함한 미국의 행정부 견제권을 갖는 국가 기관은?  mrc-1-000067   \n",
       "1                   현대적 인사조직관리의 시발점이 된 책은?  mrc-0-004397   \n",
       "2           강희제가 1717년에 쓴 글은 누구를 위해 쓰여졌는가?  mrc-1-000362   \n",
       "3  11~12세기에 제작된 본존불은 보통 어떤 나라의 특징이 전파되었나요?  mrc-0-001510   \n",
       "4               명문이 적힌 유물을 구성하는 그릇의 총 개수는?  mrc-0-000823   \n",
       "\n",
       "                                         answers  document_id  \\\n",
       "0        {'answer_start': [235], 'text': ['하원']}        18293   \n",
       "1  {'answer_start': [212], 'text': ['《경영의 실제》']}        51638   \n",
       "2        {'answer_start': [510], 'text': ['백성']}         5028   \n",
       "3        {'answer_start': [625], 'text': ['중국']}        34146   \n",
       "4         {'answer_start': [30], 'text': ['4개']}        47334   \n",
       "\n",
       "   __index_level_0__  \n",
       "0                 42  \n",
       "1               2873  \n",
       "2                230  \n",
       "3                992  \n",
       "4                548  "
      ]
     },
     "execution_count": 12,
     "metadata": {},
     "output_type": "execute_result"
    }
   ],
   "source": [
    "train_df.head()"
   ]
  },
  {
   "cell_type": "code",
   "execution_count": 13,
   "metadata": {},
   "outputs": [],
   "source": [
    "validation = dataset_to_df(dataset[\"validation\"])"
   ]
  },
  {
   "cell_type": "code",
   "execution_count": 14,
   "metadata": {},
   "outputs": [],
   "source": [
    "test = dataset_to_dftest(dataset[\"validation\"])"
   ]
  },
  {
   "cell_type": "code",
   "execution_count": 15,
   "metadata": {},
   "outputs": [
    {
     "name": "stdout",
     "output_type": "stream",
     "text": [
      "3952\n",
      "240\n",
      "240\n",
      "60613\n"
     ]
    }
   ],
   "source": [
    "print(len(train_df))\n",
    "print(len(validation))\n",
    "print(len(test))\n",
    "print(len(wiki))"
   ]
  },
  {
   "cell_type": "code",
   "execution_count": 65,
   "metadata": {},
   "outputs": [],
   "source": [
    "# train_df\n",
    "# validation\n",
    "# test\n",
    "# wiki"
   ]
  },
  {
   "cell_type": "code",
   "execution_count": 66,
   "metadata": {},
   "outputs": [],
   "source": [
    "#함수 모음"
   ]
  },
  {
   "cell_type": "code",
   "execution_count": 16,
   "metadata": {},
   "outputs": [],
   "source": [
    "train_df = dataset_to_df(dataset[\"train\"])"
   ]
  },
  {
   "cell_type": "code",
   "execution_count": 17,
   "metadata": {},
   "outputs": [],
   "source": [
    "# context와 newline 를 구별하기 위해 newline에 대한 \\\\n제거 확인\n",
    "train_df[\"context\"] = train_df[\"context\"].str.replace(\"\\\\n\", \" \", regex=False)"
   ]
  },
  {
   "cell_type": "code",
   "execution_count": 18,
   "metadata": {},
   "outputs": [],
   "source": [
    "train_df[\"context\"] = train_df[\"context\"].str.replace(r'\\s+', ' ', regex=True)"
   ]
  },
  {
   "cell_type": "code",
   "execution_count": 19,
   "metadata": {},
   "outputs": [],
   "source": [
    "train_df_newline = train_df.copy() #train_df_newline에 저장"
   ]
  },
  {
   "cell_type": "code",
   "execution_count": 20,
   "metadata": {},
   "outputs": [
    {
     "name": "stdout",
     "output_type": "stream",
     "text": [
      "\\\\n count: 0\n",
      "\\n count: 0\n"
     ]
    }
   ],
   "source": [
    "newline_counts = np.array(get_newline(train_df_newline[\"context\"]))\n",
    "print(\"\\\\\\\\n count:\", np.sum(newline_counts[:,1], axis=0))\n",
    "print(\"\\\\n count:\", np.sum(newline_counts[:,2], axis=0))"
   ]
  },
  {
   "cell_type": "code",
   "execution_count": 21,
   "metadata": {},
   "outputs": [],
   "source": [
    "train_df = dataset_to_df(dataset[\"train\"]) # 초기화 "
   ]
  },
  {
   "cell_type": "code",
   "execution_count": 22,
   "metadata": {},
   "outputs": [],
   "source": [
    "train_df['context'] = train_df['context'].apply(remove_markdown)  # 마크다운 진행"
   ]
  },
  {
   "cell_type": "code",
   "execution_count": 23,
   "metadata": {},
   "outputs": [],
   "source": [
    "train_df_mkdown = train_df.copy() # 마크다운 파일 저장"
   ]
  },
  {
   "cell_type": "code",
   "execution_count": 24,
   "metadata": {},
   "outputs": [
    {
     "name": "stdout",
     "output_type": "stream",
     "text": [
      "{'headers': 0, 'bold': 0, 'italic': 0, 'code_blocks': 0, 'inline_code': 0, 'links': 0, 'lists': 0}\n"
     ]
    }
   ],
   "source": [
    "print(count_markdown_elements(train_df_mkdown['context']))"
   ]
  },
  {
   "cell_type": "code",
   "execution_count": 25,
   "metadata": {},
   "outputs": [],
   "source": [
    "train_df = dataset_to_df(dataset[\"train\"]) # 초기화 "
   ]
  },
  {
   "cell_type": "code",
   "execution_count": 26,
   "metadata": {},
   "outputs": [
    {
     "name": "stdout",
     "output_type": "stream",
     "text": [
      "\\\\n count: 0\n",
      "\\n count: 0\n",
      "{'headers': 0, 'bold': 0, 'italic': 0, 'code_blocks': 0, 'inline_code': 0, 'links': 0, 'lists': 0}\n"
     ]
    }
   ],
   "source": [
    "train_df[\"context\"] = train_df[\"context\"].str.replace(\"\\\\n\", \" \", regex=False) # \\n 제거 \n",
    "train_df[\"context\"] = train_df[\"context\"].str.replace(r'\\s+', ' ', regex=True) # 공백 제거 \n",
    "train_df['context'] = train_df['context'].apply(remove_markdown)  # 마크다운 진행\n",
    "newline_counts = np.array(get_newline(train_df[\"context\"]))\n",
    "print(\"\\\\\\\\n count:\", np.sum(newline_counts[:,1], axis=0))\n",
    "print(\"\\\\n count:\", np.sum(newline_counts[:,2], axis=0))\n",
    "print(count_markdown_elements(train_df['context']))\n",
    "# train_df 2가지 모두 적용버전"
   ]
  },
  {
   "cell_type": "code",
   "execution_count": 359,
   "metadata": {},
   "outputs": [],
   "source": [
    "#사용할 함수들\n",
    "#train_df\n",
    "#train_df_newline\n",
    "#train_df_mkdown"
   ]
  },
  {
   "cell_type": "code",
   "execution_count": 22,
   "metadata": {},
   "outputs": [],
   "source": [
    "#mmmmmmmmmmmmmmmmmmmmmmmmmmmmmmmmmmmmmmmmmmmmmmmmmmmmmmmmmmmmmmmmmmmmmmmmmmmmmmmmmmmmm"
   ]
  },
  {
   "cell_type": "code",
   "execution_count": 27,
   "metadata": {},
   "outputs": [],
   "source": [
    "#wiki = pd.read_csv(\"../wiki_unique.csv\") wiki 초기화 \n",
    "wiki_df = load_wikipedia_data(\".json\")"
   ]
  },
  {
   "cell_type": "code",
   "execution_count": 28,
   "metadata": {},
   "outputs": [],
   "source": [
    "newline_counts = np.array(get_newline(wiki[\"text\"]))"
   ]
  },
  {
   "cell_type": "code",
   "execution_count": 29,
   "metadata": {},
   "outputs": [],
   "source": [
    "# 개행 문자 제거\n",
    "wiki['text'] = wiki['text'].replace(['\\n', '\\\\\\\\n'], ' ', regex=True)"
   ]
  },
  {
   "cell_type": "code",
   "execution_count": 30,
   "metadata": {},
   "outputs": [],
   "source": [
    "wiki[\"text\"] = wiki[\"text\"].str.replace(r'\\s+', ' ', regex=True) # 중복 띄어쓰기 제거 "
   ]
  },
  {
   "cell_type": "code",
   "execution_count": 31,
   "metadata": {},
   "outputs": [
    {
     "name": "stdout",
     "output_type": "stream",
     "text": [
      "\\\\n count: 0\n",
      "\\n count: 0\n"
     ]
    }
   ],
   "source": [
    "wiki_newline = wiki.copy() # 개행 저장\n",
    "newline_counts = np.array(get_newline(wiki_newline[\"text\"]))\n",
    "print(\"\\\\\\\\n count:\", np.sum(newline_counts[:,1], axis=0))\n",
    "print(\"\\\\n count:\", np.sum(newline_counts[:,2], axis=0))"
   ]
  },
  {
   "cell_type": "code",
   "execution_count": 32,
   "metadata": {},
   "outputs": [],
   "source": [
    "wiki_df = load_wikipedia_data(\".json\")"
   ]
  },
  {
   "cell_type": "code",
   "execution_count": 33,
   "metadata": {},
   "outputs": [],
   "source": [
    "# wiki DataFrame의 'text' 열에 함수 적용\n",
    "wiki['text'] = wiki['text'].apply(remove_markdown)"
   ]
  },
  {
   "cell_type": "code",
   "execution_count": 34,
   "metadata": {},
   "outputs": [
    {
     "name": "stdout",
     "output_type": "stream",
     "text": [
      "{'headers': 0, 'bold': 0, 'italic': 0, 'code_blocks': 0, 'inline_code': 0, 'links': 0, 'lists': 0}\n"
     ]
    }
   ],
   "source": [
    "wiki_mkdown = wiki.copy()\n",
    "print(count_markdown_elements(wiki_mkdown['text']))"
   ]
  },
  {
   "cell_type": "code",
   "execution_count": 35,
   "metadata": {},
   "outputs": [],
   "source": [
    "wiki_df = load_wikipedia_data(\".json\")# 초기화"
   ]
  },
  {
   "cell_type": "code",
   "execution_count": 36,
   "metadata": {},
   "outputs": [
    {
     "name": "stdout",
     "output_type": "stream",
     "text": [
      "\\\\n count: 0\n",
      "\\n count: 0\n",
      "{'headers': 0, 'bold': 0, 'italic': 0, 'code_blocks': 0, 'inline_code': 0, 'links': 0, 'lists': 0}\n"
     ]
    }
   ],
   "source": [
    "wiki['text'] = wiki['text'].replace(['\\n', '\\\\\\\\n'], ' ', regex=True) # 개행 문자 제거\n",
    "wiki[\"text\"] = wiki[\"text\"].str.replace(r'\\s+', ' ', regex=True) # 중복 띄어쓰기 제거 \n",
    "wiki['text'] = wiki['text'].apply(remove_markdown)\n",
    "newline_counts = np.array(get_newline(wiki[\"text\"]))\n",
    "print(\"\\\\\\\\n count:\", np.sum(newline_counts[:,1], axis=0))\n",
    "print(\"\\\\n count:\", np.sum(newline_counts[:,2], axis=0))\n",
    "print(count_markdown_elements(wiki['text']))"
   ]
  },
  {
   "cell_type": "code",
   "execution_count": 145,
   "metadata": {},
   "outputs": [],
   "source": [
    "#사용할 함수들\n",
    "#wiki_neline \n",
    "#wiki_mkdown\n",
    "#wiki"
   ]
  },
  {
   "cell_type": "code",
   "execution_count": 146,
   "metadata": {},
   "outputs": [],
   "source": [
    "#mmmmmmmmmmmmmmmmmmmmmmmmmmmmmmmmmmmmmmmmmmmmmmmmmmmmmmmmmmmmmmmmmmmmmmmmmmmmmmmmmmmmm"
   ]
  },
  {
   "cell_type": "code",
   "execution_count": 37,
   "metadata": {},
   "outputs": [],
   "source": [
    "validation = dataset_to_df(dataset[\"validation\"])"
   ]
  },
  {
   "cell_type": "code",
   "execution_count": 38,
   "metadata": {},
   "outputs": [],
   "source": [
    "newline_counts = np.array(get_newline(validation[\"context\"]))"
   ]
  },
  {
   "cell_type": "code",
   "execution_count": 39,
   "metadata": {},
   "outputs": [],
   "source": [
    "validation['context'] = validation['context'].replace(['\\n', '\\\\\\\\n'], ' ', regex=True) # 개행 문자 제거"
   ]
  },
  {
   "cell_type": "code",
   "execution_count": 40,
   "metadata": {},
   "outputs": [],
   "source": [
    "validation[\"context\"] = validation[\"context\"].str.replace(r'\\s+', ' ', regex=True) # 띄어쓰기 제거 "
   ]
  },
  {
   "cell_type": "code",
   "execution_count": 41,
   "metadata": {},
   "outputs": [
    {
     "name": "stdout",
     "output_type": "stream",
     "text": [
      "\\\\n count: 0\n",
      "\\n count: 0\n"
     ]
    }
   ],
   "source": [
    "validation_newline =validation.copy()\n",
    "# 개행 문자 카운트\n",
    "newline_counts = np.array(get_newline(validation_newline[\"context\"]))\n",
    "print(\"\\\\\\\\n count:\", np.sum(newline_counts[:,1], axis=0))\n",
    "print(\"\\\\n count:\", np.sum(newline_counts[:,2], axis=0))"
   ]
  },
  {
   "cell_type": "code",
   "execution_count": 42,
   "metadata": {},
   "outputs": [],
   "source": [
    "validation = dataset_to_df(dataset[\"validation\"])"
   ]
  },
  {
   "cell_type": "code",
   "execution_count": 43,
   "metadata": {},
   "outputs": [],
   "source": [
    "validation['context'] = validation['context'].apply(remove_markdown) # 마크다운 제거 "
   ]
  },
  {
   "cell_type": "code",
   "execution_count": 44,
   "metadata": {},
   "outputs": [
    {
     "name": "stdout",
     "output_type": "stream",
     "text": [
      "{'headers': 0, 'bold': 0, 'italic': 0, 'code_blocks': 0, 'inline_code': 0, 'links': 0, 'lists': 0}\n"
     ]
    }
   ],
   "source": [
    "validation_mkdown =validation.copy()\n",
    "print(count_markdown_elements(validation_mkdown['context']))"
   ]
  },
  {
   "cell_type": "code",
   "execution_count": 45,
   "metadata": {},
   "outputs": [],
   "source": [
    "validation = dataset_to_df(dataset[\"validation\"]) # 초기화 "
   ]
  },
  {
   "cell_type": "code",
   "execution_count": 46,
   "metadata": {},
   "outputs": [
    {
     "name": "stdout",
     "output_type": "stream",
     "text": [
      "\\\\n count: 0\n",
      "\\n count: 0\n",
      "{'headers': 0, 'bold': 0, 'italic': 0, 'code_blocks': 0, 'inline_code': 0, 'links': 0, 'lists': 0}\n"
     ]
    }
   ],
   "source": [
    "validation['context'] = validation['context'].replace(['\\n', '\\\\\\\\n'], ' ', regex=True) # 개행 문자 제거\n",
    "validation[\"context\"] = validation[\"context\"].str.replace(r'\\s+', ' ', regex=True) # 띄어쓰기 제거 \n",
    "validation['context'] = validation['context'].apply(remove_markdown) # 마크다운 제거 \n",
    "newline_counts = np.array(get_newline(validation[\"context\"]))\n",
    "print(\"\\\\\\\\n count:\", np.sum(newline_counts[:,1], axis=0))\n",
    "print(\"\\\\n count:\", np.sum(newline_counts[:,2], axis=0))\n",
    "print(count_markdown_elements(validation_mkdown['context']))"
   ]
  },
  {
   "cell_type": "code",
   "execution_count": 284,
   "metadata": {},
   "outputs": [],
   "source": [
    "# train_df\n",
    "# validation\n",
    "# test\n",
    "# wiki\n",
    "\n",
    "# validation_newline \n",
    "# validation_mkdown\n",
    "# validation\n",
    "\n",
    "#train_df\n",
    "#train_df_newline\n",
    "#train_df_mkdown\n",
    "\n",
    "\n",
    "#wiki_newline \n",
    "#wiki_mkdown\n",
    "#wiki"
   ]
  },
  {
   "cell_type": "code",
   "execution_count": null,
   "metadata": {},
   "outputs": [],
   "source": [
    "\n",
    "##-------------------------------------------------------------------------------------"
   ]
  },
  {
   "cell_type": "code",
   "execution_count": 49,
   "metadata": {},
   "outputs": [
    {
     "name": "stdout",
     "output_type": "stream",
     "text": [
      "Saved wiki.csv\n",
      "Saved wiki_newline.csv\n",
      "Saved wiki_mkdown.csv\n",
      "All files have been saved.\n"
     ]
    }
   ],
   "source": [
    "import pandas as pd\n",
    "import pyarrow as pa\n",
    "import pyarrow.parquet as pq\n",
    "\n",
    "# 데이터셋 목록\n",
    "#datasets = ['validation', 'train_df']\n",
    "datasets = ['wiki']\n",
    "versions = ['', '_newline', '_mkdown']\n",
    "\n",
    "# 각 데이터셋에 대해 반복\n",
    "for dataset in datasets:\n",
    "    for version in versions:\n",
    "        # 데이터프레임 이름 (예: validation_newline)\n",
    "        df_name = f\"{dataset}{version}\"\n",
    "        \n",
    "        # 데이터프레임이 존재하는지 확인\n",
    "        if df_name in globals():\n",
    "            df = globals()[df_name]\n",
    "            \n",
    "            # CSV 파일로 저장\n",
    "            csv_filename = f\"{df_name}.csv\"\n",
    "            df.to_csv(csv_filename, index=False)\n",
    "            print(f\"Saved {csv_filename}\")\n",
    "                      \n",
    "\n",
    "print(\"All files have been saved.\")"
   ]
  },
  {
   "cell_type": "code",
   "execution_count": 86,
   "metadata": {},
   "outputs": [],
   "source": [
    "from datasets import Dataset\n",
    "train_df =  Dataset.from_pandas(train_df)\n",
    "train_df_newline = Dataset.from_pandas(train_df_newline)\n",
    "train_df_mkdown = Dataset.from_pandas(train_df_mkdown)\n",
    "\n",
    "validation = Dataset.from_pandas(validation)\n",
    "validation_newline = Dataset.from_pandas(validation_newline)\n",
    "validation_mkdown = Dataset.from_pandas(validation_mkdown)"
   ]
  },
  {
   "cell_type": "code",
   "execution_count": null,
   "metadata": {},
   "outputs": [],
   "source": [
    "# 데이터셋 목록\n",
    "datasets = ['validation', 'train_df', 'wiki']\n",
    "versions = ['', '_newline', '_mkdown']\n",
    "\n",
    "# 각 데이터셋에 대해 반복\n",
    "for dataset in datasets:\n",
    "    for version in versions:\n",
    "        # 데이터셋 이름 (예: validation_newline)\n",
    "        dataset_name = f\"{dataset}{version}\"\n",
    "        \n",
    "        # 데이터셋이 존재하는지 확인\n",
    "        if dataset_name in globals():\n",
    "            dataset_obj = globals()[dataset_name]\n",
    "            \n",
    "            # 데이터셋이 이미 Dataset 객체인지 확인\n",
    "            if not isinstance(dataset_obj, Dataset):\n",
    "                # pandas DataFrame을 Dataset으로 변환\n",
    "                dataset_obj = Dataset.from_pandas(dataset_obj)\n",
    "            \n",
    "            # Arrow 파일로 저장\n",
    "            arrow_filename = f\"{dataset_name}.arrow\"\n",
    "            dataset_obj.save_to_disk(arrow_filename)\n",
    "            print(f\"Saved {arrow_filename}\")\n",
    "\n",
    "print(\"All files have been saved.\")"
   ]
  },
  {
   "cell_type": "code",
   "execution_count": null,
   "metadata": {},
   "outputs": [],
   "source": [
    "import os\n",
    "import shutil\n",
    "import pandas as pd\n",
    "\n",
    "# 디렉토리 경로 설정\n",
    "base_dir = r\"\"\n",
    "newline_dir = os.path.join(base_dir, \"newline\")\n",
    "mkdown_dir = os.path.join(base_dir, \"mkdown\")\n",
    "newlinemkdown_dir = os.path.join(base_dir, \"newlinemkdown\")\n",
    "\n",
    "# 디렉토리가 없으면 생성\n",
    "for dir_path in [newline_dir, mkdown_dir, newlinemkdown_dir]:\n",
    "    os.makedirs(dir_path, exist_ok=True)\n",
    "\n",
    "# 파일 이동 함수\n",
    "def move_file(file_name, source_dir, dest_dir):\n",
    "    source_path = os.path.join(source_dir, file_name)\n",
    "    dest_path = os.path.join(dest_dir, file_name)\n",
    "    if os.path.exists(source_path):\n",
    "        shutil.move(source_path, dest_path)\n",
    "        print(f\"Moved {file_name} to {dest_dir}\")\n",
    "    else:\n",
    "        print(f\"{file_name} not found in {source_dir}\")\n",
    "\n",
    "# 파일 이동\n",
    "datasets = ['validation', 'train_df', 'wiki']\n",
    "\n",
    "for dataset in datasets:\n",
    "    # newline 파일 이동\n",
    "    move_file(f\"{dataset}_newline.csv\", base_dir, newline_dir)\n",
    "    move_file(f\"{dataset}_newline.arrow\", base_dir, newline_dir)\n",
    "    \n",
    "    # mkdown 파일 이동\n",
    "    move_file(f\"{dataset}_mkdown.csv\", base_dir, mkdown_dir)\n",
    "    move_file(f\"{dataset}_mkdown.arrow\", base_dir, mkdown_dir)\n",
    "    \n",
    "    # newlinemkdown 파일 이동\n",
    "    move_file(f\"{dataset}.csv\", base_dir, newlinemkdown_dir)\n",
    "    move_file(f\"{dataset}.arrow\", base_dir, newlinemkdown_dir)\n",
    "\n",
    "print(\"File moving completed.\")"
   ]
  },
  {
   "cell_type": "code",
   "execution_count": null,
   "metadata": {},
   "outputs": [],
   "source": [
    "#test~~~~~~~~~~~~~~~~~~~~~~~~~~~~~~~~~~~~~~~~~~~~~~~~~~~~~~~~~~~~~~~~~~~~~~~~~~~~~~~~~"
   ]
  },
  {
   "cell_type": "code",
   "execution_count": 379,
   "metadata": {},
   "outputs": [
    {
     "name": "stdout",
     "output_type": "stream",
     "text": [
      "CSV 파일이 test.csv로 저장되었습니다.\n",
      "Arrow 파일이 test.arrow로 저장되었습니다.\n"
     ]
    }
   ],
   "source": [
    "import pandas as pd\n",
    "import pyarrow as pa\n",
    "import pyarrow.parquet as pq\n",
    "\n",
    "# 먼저 test가 pandas DataFrame인지 확인합니다.\n",
    "if not isinstance(test, pd.DataFrame):\n",
    "    test = pd.DataFrame(test)\n",
    "\n",
    "# CSV 파일로 저장\n",
    "csv_filename = 'test.csv'\n",
    "test.to_csv(csv_filename, index=False)\n",
    "print(f\"CSV 파일이 {csv_filename}로 저장되었습니다.\")\n",
    "\n",
    "# Arrow 파일로 저장\n",
    "arrow_filename = 'test.arrow'\n",
    "table = pa.Table.from_pandas(test)\n",
    "with pa.OSFile(arrow_filename, 'wb') as sink:\n",
    "    with pa.RecordBatchFileWriter(sink, table.schema) as writer:\n",
    "        writer.write_table(table)\n",
    "print(f\"Arrow 파일이 {arrow_filename}로 저장되었습니다.\")\n",
    "\n",
    "\n"
   ]
  },
  {
   "cell_type": "code",
   "execution_count": 226,
   "metadata": {},
   "outputs": [
    {
     "data": {
      "text/plain": [
       "Dataset({\n",
       "    features: ['title', 'context', 'question', 'id', 'answers', 'document_id', '__index_level_0__'],\n",
       "    num_rows: 3952\n",
       "})"
      ]
     },
     "execution_count": 226,
     "metadata": {},
     "output_type": "execute_result"
    }
   ],
   "source": [
    "tarin1 = Dataset.from_pandas(train_df)\n",
    "tarin1"
   ]
  },
  {
   "cell_type": "code",
   "execution_count": 224,
   "metadata": {},
   "outputs": [
    {
     "data": {
      "text/plain": [
       "Dataset({\n",
       "    features: ['question', 'id'],\n",
       "    num_rows: 600\n",
       "})"
      ]
     },
     "execution_count": 224,
     "metadata": {},
     "output_type": "execute_result"
    }
   ],
   "source": [
    "test1 = Dataset.from_pandas(test)\n",
    "test1"
   ]
  },
  {
   "cell_type": "code",
   "execution_count": null,
   "metadata": {},
   "outputs": [],
   "source": [
    "#사용할 함수들\n",
    "#wiki_neline \n",
    "#wiki_mkdown\n",
    "#wiki"
   ]
  },
  {
   "cell_type": "code",
   "execution_count": 32,
   "metadata": {},
   "outputs": [
    {
     "data": {
      "text/html": [
       "<div>\n",
       "<style scoped>\n",
       "    .dataframe tbody tr th:only-of-type {\n",
       "        vertical-align: middle;\n",
       "    }\n",
       "\n",
       "    .dataframe tbody tr th {\n",
       "        vertical-align: top;\n",
       "    }\n",
       "\n",
       "    .dataframe thead th {\n",
       "        text-align: right;\n",
       "    }\n",
       "</style>\n",
       "<table border=\"1\" class=\"dataframe\">\n",
       "  <thead>\n",
       "    <tr style=\"text-align: right;\">\n",
       "      <th></th>\n",
       "      <th>text</th>\n",
       "      <th>corpus_source</th>\n",
       "      <th>url</th>\n",
       "      <th>domain</th>\n",
       "      <th>title</th>\n",
       "      <th>author</th>\n",
       "      <th>html</th>\n",
       "      <th>document_id</th>\n",
       "    </tr>\n",
       "  </thead>\n",
       "  <tbody>\n",
       "    <tr>\n",
       "      <th>0</th>\n",
       "      <td>이 문서는 나라 목록이며, 전 세계 206개 나라의 각 현황과 주권 승인 정보를 개...</td>\n",
       "      <td>위키피디아</td>\n",
       "      <td>TODO</td>\n",
       "      <td>None</td>\n",
       "      <td>나라 목록</td>\n",
       "      <td>None</td>\n",
       "      <td>None</td>\n",
       "      <td>0</td>\n",
       "    </tr>\n",
       "    <tr>\n",
       "      <th>1</th>\n",
       "      <td>이 목록에 실린 국가 기준은 1933년 몬테비데오 협약 1장을 참고로 하였다. 협정...</td>\n",
       "      <td>위키피디아</td>\n",
       "      <td>TODO</td>\n",
       "      <td>None</td>\n",
       "      <td>나라 목록</td>\n",
       "      <td>None</td>\n",
       "      <td>None</td>\n",
       "      <td>1</td>\n",
       "    </tr>\n",
       "    <tr>\n",
       "      <th>2</th>\n",
       "      <td>현 서울특별시 종로구 서린동 (구 일제 강점기 경기도 경성부 서린정) 출신이다. 친...</td>\n",
       "      <td>위키피디아</td>\n",
       "      <td>TODO</td>\n",
       "      <td>None</td>\n",
       "      <td>백남준</td>\n",
       "      <td>None</td>\n",
       "      <td>None</td>\n",
       "      <td>2</td>\n",
       "    </tr>\n",
       "    <tr>\n",
       "      <th>3</th>\n",
       "      <td>아오조라 문고(靑空文庫, あおぞらぶんこ|아오조라 분고)는 ‘일본어판 구텐베르크 프로...</td>\n",
       "      <td>위키피디아</td>\n",
       "      <td>TODO</td>\n",
       "      <td>None</td>\n",
       "      <td>아오조라 문고</td>\n",
       "      <td>None</td>\n",
       "      <td>None</td>\n",
       "      <td>3</td>\n",
       "    </tr>\n",
       "    <tr>\n",
       "      <th>4</th>\n",
       "      <td>저자 사망 이후 50년이 지나 저작권이 소멸한 메이지 시대부터 쇼와 시대 초기까지의...</td>\n",
       "      <td>위키피디아</td>\n",
       "      <td>TODO</td>\n",
       "      <td>None</td>\n",
       "      <td>아오조라 문고</td>\n",
       "      <td>None</td>\n",
       "      <td>None</td>\n",
       "      <td>4</td>\n",
       "    </tr>\n",
       "  </tbody>\n",
       "</table>\n",
       "</div>"
      ],
      "text/plain": [
       "                                                text corpus_source   url  \\\n",
       "0  이 문서는 나라 목록이며, 전 세계 206개 나라의 각 현황과 주권 승인 정보를 개...         위키피디아  TODO   \n",
       "1  이 목록에 실린 국가 기준은 1933년 몬테비데오 협약 1장을 참고로 하였다. 협정...         위키피디아  TODO   \n",
       "2  현 서울특별시 종로구 서린동 (구 일제 강점기 경기도 경성부 서린정) 출신이다. 친...         위키피디아  TODO   \n",
       "3  아오조라 문고(靑空文庫, あおぞらぶんこ|아오조라 분고)는 ‘일본어판 구텐베르크 프로...         위키피디아  TODO   \n",
       "4  저자 사망 이후 50년이 지나 저작권이 소멸한 메이지 시대부터 쇼와 시대 초기까지의...         위키피디아  TODO   \n",
       "\n",
       "  domain    title author  html document_id  \n",
       "0   None    나라 목록   None  None           0  \n",
       "1   None    나라 목록   None  None           1  \n",
       "2   None      백남준   None  None           2  \n",
       "3   None  아오조라 문고   None  None           3  \n",
       "4   None  아오조라 문고   None  None           4  "
      ]
     },
     "execution_count": 32,
     "metadata": {},
     "output_type": "execute_result"
    }
   ],
   "source": [
    "wiki.head()"
   ]
  },
  {
   "cell_type": "code",
   "execution_count": null,
   "metadata": {},
   "outputs": [],
   "source": [
    "import csv\n",
    "import json\n",
    "\n",
    "def csv_to_json(csv_file_path, json_file_path):\n",
    "    # CSV 파일 읽기\n",
    "    with open(csv_file_path, 'r', encoding='utf-8') as csv_file:\n",
    "        csv_reader = csv.DictReader(csv_file)\n",
    "        data = list(csv_reader)\n",
    "\n",
    "    # JSON 파일로 쓰기\n",
    "    with open(json_file_path, 'w', encoding='utf-8') as json_file:\n",
    "        json.dump(data, json_file, ensure_ascii=False, indent=4)\n",
    "\n",
    "# 사용 예시\n",
    "csv_file_path = '.csv'\n",
    "json_file_path = 'wikimkdown.json'\n",
    "csv_to_json(csv_file_path, json_file_path)\n",
    "\n",
    "print(\"CSV 파일이 JSON 파일로 성공적으로 변환되었습니다.\")"
   ]
  },
  {
   "cell_type": "code",
   "execution_count": 38,
   "metadata": {},
   "outputs": [
    {
     "data": {
      "text/html": [
       "<div>\n",
       "<style scoped>\n",
       "    .dataframe tbody tr th:only-of-type {\n",
       "        vertical-align: middle;\n",
       "    }\n",
       "\n",
       "    .dataframe tbody tr th {\n",
       "        vertical-align: top;\n",
       "    }\n",
       "\n",
       "    .dataframe thead th {\n",
       "        text-align: right;\n",
       "    }\n",
       "</style>\n",
       "<table border=\"1\" class=\"dataframe\">\n",
       "  <thead>\n",
       "    <tr style=\"text-align: right;\">\n",
       "      <th></th>\n",
       "      <th>0</th>\n",
       "      <th>1</th>\n",
       "      <th>2</th>\n",
       "      <th>3</th>\n",
       "      <th>4</th>\n",
       "      <th>5</th>\n",
       "      <th>6</th>\n",
       "      <th>7</th>\n",
       "      <th>8</th>\n",
       "      <th>9</th>\n",
       "      <th>...</th>\n",
       "      <th>60603</th>\n",
       "      <th>60604</th>\n",
       "      <th>60605</th>\n",
       "      <th>60606</th>\n",
       "      <th>60607</th>\n",
       "      <th>60608</th>\n",
       "      <th>60609</th>\n",
       "      <th>60610</th>\n",
       "      <th>60611</th>\n",
       "      <th>60612</th>\n",
       "    </tr>\n",
       "  </thead>\n",
       "  <tbody>\n",
       "    <tr>\n",
       "      <th>text</th>\n",
       "      <td>이 문서는 나라 목록이며, 전 세계 206개 나라의 각 현황과 주권 승인 정보를 개...</td>\n",
       "      <td>이 목록에 실린 국가 기준은 1933년 몬테비데오 협약 1장을 참고로 하였다. 협정...</td>\n",
       "      <td>현 서울특별시 종로구 서린동 (구 일제 강점기 경기도 경성부 서린정) 출신이다. 친...</td>\n",
       "      <td>아오조라 문고(靑空文庫, あおぞらぶんこ|아오조라 분고)는 ‘일본어판 구텐베르크 프로...</td>\n",
       "      <td>저자 사망 이후 50년이 지나 저작권이 소멸한 메이지 시대부터 쇼와 시대 초기까지의...</td>\n",
       "      <td>아오조라 문고는 자원봉사로 운영되며 열람 역시 무료이다. 서비스 개시 초반에는 보이...</td>\n",
       "      <td>텍스트 파일을 아오조라 문고에 수록할 때, 텍스트 파일이 갖추어야 할 서식을 '아오...</td>\n",
       "      <td>일본어 표기에 많이 쓰이는 올림문자 (후리가나)는 그대로 올려쓰지 않고 '｜'나 '...</td>\n",
       "      <td>켄 톰슨(Ken Thompson) 등과 함께 최초의 유닉스(Unix) 시스템을 개발...</td>\n",
       "      <td>주기율표(週期律表, 주기률표, periodic table) 또는 주기표(週期表)는 ...</td>\n",
       "      <td>...</td>\n",
       "      <td>재래식 전력과 비대칭 전력, 즉 핵까지 갖고 있다한 들, 독자적으로 GPS(GNSS...</td>\n",
       "      <td>소련은 1960년 10월, 알제리를 독립 정부로 최초로 인정해준 나라였다. 소련이 ...</td>\n",
       "      <td>미국 안보 매체, 내셔널 인터레스트지는 한국군이 국방비를 늘렸다고, 비스트 모드(짐...</td>\n",
       "      <td>곰 자체는 페름 지역 숲에 사는 동물이 풍부함을 상징하며, 은색인 이유는 금속, 소...</td>\n",
       "      <td>1967년 소련 통치기 페름 시 의회는 새 문장 공모전을 개최하였으며, 1968년까...</td>\n",
       "      <td>오키나와 현립 박물관·미술관( , Okinawa Prefectural Museum ...</td>\n",
       "      <td>1936년 7월, 오키나와현 교육위원회 부설 향토 박물관(沖縄県教育会附設郷土博物館)...</td>\n",
       "      <td>박물관은 개관 10주년이되는 2017년에 관의 애칭 및 마스코트를 일반인에게 공모했...</td>\n",
       "      <td>단결권 및 단체교섭권 협약(Right to Organise and Collectiv...</td>\n",
       "      <td>이 협약은 부당노동행위 제도를 규율하고 있다. 협약 제1조에서 반노동조합 차별행위로...</td>\n",
       "    </tr>\n",
       "    <tr>\n",
       "      <th>corpus_source</th>\n",
       "      <td>위키피디아</td>\n",
       "      <td>위키피디아</td>\n",
       "      <td>위키피디아</td>\n",
       "      <td>위키피디아</td>\n",
       "      <td>위키피디아</td>\n",
       "      <td>위키피디아</td>\n",
       "      <td>위키피디아</td>\n",
       "      <td>위키피디아</td>\n",
       "      <td>위키피디아</td>\n",
       "      <td>위키피디아</td>\n",
       "      <td>...</td>\n",
       "      <td>위키피디아</td>\n",
       "      <td>위키피디아</td>\n",
       "      <td>위키피디아</td>\n",
       "      <td>위키피디아</td>\n",
       "      <td>위키피디아</td>\n",
       "      <td>위키피디아</td>\n",
       "      <td>위키피디아</td>\n",
       "      <td>위키피디아</td>\n",
       "      <td>위키피디아</td>\n",
       "      <td>위키피디아</td>\n",
       "    </tr>\n",
       "    <tr>\n",
       "      <th>url</th>\n",
       "      <td>TODO</td>\n",
       "      <td>TODO</td>\n",
       "      <td>TODO</td>\n",
       "      <td>TODO</td>\n",
       "      <td>TODO</td>\n",
       "      <td>TODO</td>\n",
       "      <td>TODO</td>\n",
       "      <td>TODO</td>\n",
       "      <td>TODO</td>\n",
       "      <td>TODO</td>\n",
       "      <td>...</td>\n",
       "      <td></td>\n",
       "      <td></td>\n",
       "      <td></td>\n",
       "      <td></td>\n",
       "      <td></td>\n",
       "      <td></td>\n",
       "      <td></td>\n",
       "      <td></td>\n",
       "      <td></td>\n",
       "      <td></td>\n",
       "    </tr>\n",
       "    <tr>\n",
       "      <th>domain</th>\n",
       "      <td></td>\n",
       "      <td></td>\n",
       "      <td></td>\n",
       "      <td></td>\n",
       "      <td></td>\n",
       "      <td></td>\n",
       "      <td></td>\n",
       "      <td></td>\n",
       "      <td></td>\n",
       "      <td></td>\n",
       "      <td>...</td>\n",
       "      <td></td>\n",
       "      <td></td>\n",
       "      <td></td>\n",
       "      <td></td>\n",
       "      <td></td>\n",
       "      <td></td>\n",
       "      <td></td>\n",
       "      <td></td>\n",
       "      <td></td>\n",
       "      <td></td>\n",
       "    </tr>\n",
       "    <tr>\n",
       "      <th>title</th>\n",
       "      <td>나라 목록</td>\n",
       "      <td>나라 목록</td>\n",
       "      <td>백남준</td>\n",
       "      <td>아오조라 문고</td>\n",
       "      <td>아오조라 문고</td>\n",
       "      <td>아오조라 문고</td>\n",
       "      <td>아오조라 문고</td>\n",
       "      <td>아오조라 문고</td>\n",
       "      <td>데니스 리치</td>\n",
       "      <td>주기율표</td>\n",
       "      <td>...</td>\n",
       "      <td>자주국방론</td>\n",
       "      <td>자주국방론</td>\n",
       "      <td>자주국방론</td>\n",
       "      <td>페름의 문장</td>\n",
       "      <td>페름의 문장</td>\n",
       "      <td>오키나와 현립 박물관·미술관</td>\n",
       "      <td>오키나와 현립 박물관·미술관</td>\n",
       "      <td>오키나와 현립 박물관·미술관</td>\n",
       "      <td>단결권 및 단체교섭권 협약</td>\n",
       "      <td>단결권 및 단체교섭권 협약</td>\n",
       "    </tr>\n",
       "    <tr>\n",
       "      <th>author</th>\n",
       "      <td></td>\n",
       "      <td></td>\n",
       "      <td></td>\n",
       "      <td></td>\n",
       "      <td></td>\n",
       "      <td></td>\n",
       "      <td></td>\n",
       "      <td></td>\n",
       "      <td></td>\n",
       "      <td></td>\n",
       "      <td>...</td>\n",
       "      <td></td>\n",
       "      <td></td>\n",
       "      <td></td>\n",
       "      <td></td>\n",
       "      <td></td>\n",
       "      <td></td>\n",
       "      <td></td>\n",
       "      <td></td>\n",
       "      <td></td>\n",
       "      <td></td>\n",
       "    </tr>\n",
       "    <tr>\n",
       "      <th>html</th>\n",
       "      <td></td>\n",
       "      <td></td>\n",
       "      <td></td>\n",
       "      <td></td>\n",
       "      <td></td>\n",
       "      <td></td>\n",
       "      <td></td>\n",
       "      <td></td>\n",
       "      <td></td>\n",
       "      <td></td>\n",
       "      <td>...</td>\n",
       "      <td></td>\n",
       "      <td></td>\n",
       "      <td></td>\n",
       "      <td></td>\n",
       "      <td></td>\n",
       "      <td></td>\n",
       "      <td></td>\n",
       "      <td></td>\n",
       "      <td></td>\n",
       "      <td></td>\n",
       "    </tr>\n",
       "    <tr>\n",
       "      <th>document_id</th>\n",
       "      <td>0</td>\n",
       "      <td>1</td>\n",
       "      <td>2</td>\n",
       "      <td>3</td>\n",
       "      <td>4</td>\n",
       "      <td>5</td>\n",
       "      <td>6</td>\n",
       "      <td>7</td>\n",
       "      <td>8</td>\n",
       "      <td>9</td>\n",
       "      <td>...</td>\n",
       "      <td>60603</td>\n",
       "      <td>60604</td>\n",
       "      <td>60605</td>\n",
       "      <td>60606</td>\n",
       "      <td>60607</td>\n",
       "      <td>60608</td>\n",
       "      <td>60609</td>\n",
       "      <td>60610</td>\n",
       "      <td>60611</td>\n",
       "      <td>60612</td>\n",
       "    </tr>\n",
       "  </tbody>\n",
       "</table>\n",
       "<p>8 rows × 60613 columns</p>\n",
       "</div>"
      ],
      "text/plain": [
       "                                                           0      \\\n",
       "text           이 문서는 나라 목록이며, 전 세계 206개 나라의 각 현황과 주권 승인 정보를 개...   \n",
       "corpus_source                                              위키피디아   \n",
       "url                                                         TODO   \n",
       "domain                                                             \n",
       "title                                                      나라 목록   \n",
       "author                                                             \n",
       "html                                                               \n",
       "document_id                                                    0   \n",
       "\n",
       "                                                           1      \\\n",
       "text           이 목록에 실린 국가 기준은 1933년 몬테비데오 협약 1장을 참고로 하였다. 협정...   \n",
       "corpus_source                                              위키피디아   \n",
       "url                                                         TODO   \n",
       "domain                                                             \n",
       "title                                                      나라 목록   \n",
       "author                                                             \n",
       "html                                                               \n",
       "document_id                                                    1   \n",
       "\n",
       "                                                           2      \\\n",
       "text           현 서울특별시 종로구 서린동 (구 일제 강점기 경기도 경성부 서린정) 출신이다. 친...   \n",
       "corpus_source                                              위키피디아   \n",
       "url                                                         TODO   \n",
       "domain                                                             \n",
       "title                                                        백남준   \n",
       "author                                                             \n",
       "html                                                               \n",
       "document_id                                                    2   \n",
       "\n",
       "                                                           3      \\\n",
       "text           아오조라 문고(靑空文庫, あおぞらぶんこ|아오조라 분고)는 ‘일본어판 구텐베르크 프로...   \n",
       "corpus_source                                              위키피디아   \n",
       "url                                                         TODO   \n",
       "domain                                                             \n",
       "title                                                    아오조라 문고   \n",
       "author                                                             \n",
       "html                                                               \n",
       "document_id                                                    3   \n",
       "\n",
       "                                                           4      \\\n",
       "text           저자 사망 이후 50년이 지나 저작권이 소멸한 메이지 시대부터 쇼와 시대 초기까지의...   \n",
       "corpus_source                                              위키피디아   \n",
       "url                                                         TODO   \n",
       "domain                                                             \n",
       "title                                                    아오조라 문고   \n",
       "author                                                             \n",
       "html                                                               \n",
       "document_id                                                    4   \n",
       "\n",
       "                                                           5      \\\n",
       "text           아오조라 문고는 자원봉사로 운영되며 열람 역시 무료이다. 서비스 개시 초반에는 보이...   \n",
       "corpus_source                                              위키피디아   \n",
       "url                                                         TODO   \n",
       "domain                                                             \n",
       "title                                                    아오조라 문고   \n",
       "author                                                             \n",
       "html                                                               \n",
       "document_id                                                    5   \n",
       "\n",
       "                                                           6      \\\n",
       "text           텍스트 파일을 아오조라 문고에 수록할 때, 텍스트 파일이 갖추어야 할 서식을 '아오...   \n",
       "corpus_source                                              위키피디아   \n",
       "url                                                         TODO   \n",
       "domain                                                             \n",
       "title                                                    아오조라 문고   \n",
       "author                                                             \n",
       "html                                                               \n",
       "document_id                                                    6   \n",
       "\n",
       "                                                           7      \\\n",
       "text           일본어 표기에 많이 쓰이는 올림문자 (후리가나)는 그대로 올려쓰지 않고 '｜'나 '...   \n",
       "corpus_source                                              위키피디아   \n",
       "url                                                         TODO   \n",
       "domain                                                             \n",
       "title                                                    아오조라 문고   \n",
       "author                                                             \n",
       "html                                                               \n",
       "document_id                                                    7   \n",
       "\n",
       "                                                           8      \\\n",
       "text           켄 톰슨(Ken Thompson) 등과 함께 최초의 유닉스(Unix) 시스템을 개발...   \n",
       "corpus_source                                              위키피디아   \n",
       "url                                                         TODO   \n",
       "domain                                                             \n",
       "title                                                     데니스 리치   \n",
       "author                                                             \n",
       "html                                                               \n",
       "document_id                                                    8   \n",
       "\n",
       "                                                           9      ...  \\\n",
       "text           주기율표(週期律表, 주기률표, periodic table) 또는 주기표(週期表)는 ...  ...   \n",
       "corpus_source                                              위키피디아  ...   \n",
       "url                                                         TODO  ...   \n",
       "domain                                                            ...   \n",
       "title                                                       주기율표  ...   \n",
       "author                                                            ...   \n",
       "html                                                              ...   \n",
       "document_id                                                    9  ...   \n",
       "\n",
       "                                                           60603  \\\n",
       "text           재래식 전력과 비대칭 전력, 즉 핵까지 갖고 있다한 들, 독자적으로 GPS(GNSS...   \n",
       "corpus_source                                              위키피디아   \n",
       "url                                                                \n",
       "domain                                                             \n",
       "title                                                      자주국방론   \n",
       "author                                                             \n",
       "html                                                               \n",
       "document_id                                                60603   \n",
       "\n",
       "                                                           60604  \\\n",
       "text           소련은 1960년 10월, 알제리를 독립 정부로 최초로 인정해준 나라였다. 소련이 ...   \n",
       "corpus_source                                              위키피디아   \n",
       "url                                                                \n",
       "domain                                                             \n",
       "title                                                      자주국방론   \n",
       "author                                                             \n",
       "html                                                               \n",
       "document_id                                                60604   \n",
       "\n",
       "                                                           60605  \\\n",
       "text           미국 안보 매체, 내셔널 인터레스트지는 한국군이 국방비를 늘렸다고, 비스트 모드(짐...   \n",
       "corpus_source                                              위키피디아   \n",
       "url                                                                \n",
       "domain                                                             \n",
       "title                                                      자주국방론   \n",
       "author                                                             \n",
       "html                                                               \n",
       "document_id                                                60605   \n",
       "\n",
       "                                                           60606  \\\n",
       "text           곰 자체는 페름 지역 숲에 사는 동물이 풍부함을 상징하며, 은색인 이유는 금속, 소...   \n",
       "corpus_source                                              위키피디아   \n",
       "url                                                                \n",
       "domain                                                             \n",
       "title                                                     페름의 문장   \n",
       "author                                                             \n",
       "html                                                               \n",
       "document_id                                                60606   \n",
       "\n",
       "                                                           60607  \\\n",
       "text           1967년 소련 통치기 페름 시 의회는 새 문장 공모전을 개최하였으며, 1968년까...   \n",
       "corpus_source                                              위키피디아   \n",
       "url                                                                \n",
       "domain                                                             \n",
       "title                                                     페름의 문장   \n",
       "author                                                             \n",
       "html                                                               \n",
       "document_id                                                60607   \n",
       "\n",
       "                                                           60608  \\\n",
       "text           오키나와 현립 박물관·미술관( , Okinawa Prefectural Museum ...   \n",
       "corpus_source                                              위키피디아   \n",
       "url                                                                \n",
       "domain                                                             \n",
       "title                                            오키나와 현립 박물관·미술관   \n",
       "author                                                             \n",
       "html                                                               \n",
       "document_id                                                60608   \n",
       "\n",
       "                                                           60609  \\\n",
       "text           1936년 7월, 오키나와현 교육위원회 부설 향토 박물관(沖縄県教育会附設郷土博物館)...   \n",
       "corpus_source                                              위키피디아   \n",
       "url                                                                \n",
       "domain                                                             \n",
       "title                                            오키나와 현립 박물관·미술관   \n",
       "author                                                             \n",
       "html                                                               \n",
       "document_id                                                60609   \n",
       "\n",
       "                                                           60610  \\\n",
       "text           박물관은 개관 10주년이되는 2017년에 관의 애칭 및 마스코트를 일반인에게 공모했...   \n",
       "corpus_source                                              위키피디아   \n",
       "url                                                                \n",
       "domain                                                             \n",
       "title                                            오키나와 현립 박물관·미술관   \n",
       "author                                                             \n",
       "html                                                               \n",
       "document_id                                                60610   \n",
       "\n",
       "                                                           60611  \\\n",
       "text           단결권 및 단체교섭권 협약(Right to Organise and Collectiv...   \n",
       "corpus_source                                              위키피디아   \n",
       "url                                                                \n",
       "domain                                                             \n",
       "title                                             단결권 및 단체교섭권 협약   \n",
       "author                                                             \n",
       "html                                                               \n",
       "document_id                                                60611   \n",
       "\n",
       "                                                           60612  \n",
       "text           이 협약은 부당노동행위 제도를 규율하고 있다. 협약 제1조에서 반노동조합 차별행위로...  \n",
       "corpus_source                                              위키피디아  \n",
       "url                                                               \n",
       "domain                                                            \n",
       "title                                             단결권 및 단체교섭권 협약  \n",
       "author                                                            \n",
       "html                                                              \n",
       "document_id                                                60612  \n",
       "\n",
       "[8 rows x 60613 columns]"
      ]
     },
     "execution_count": 38,
     "metadata": {},
     "output_type": "execute_result"
    }
   ],
   "source": [
    "# wikipedia 데이터 불러오기\n",
    "# with open(\"C:/Users/black/OneDrive/바탕 화면/aaaaaa/data/wikipedia_documents.json\", \"r\", encoding=\"utf-8\") as f:\n",
    "#     wiki = json.load(f)\n",
    "with open(\".json\", \"r\", encoding=\"utf-8\") as f:\n",
    "    wiki = json.load(f)\n",
    "\n",
    "\n",
    "\n",
    "wiki = pd.DataFrame(wiki)\n",
    "wiki = wiki.transpose() # 필요한 column만 남기기\n",
    "wiki.head(10)"
   ]
  }
 ],
 "metadata": {
  "kernelspec": {
   "display_name": "Python 3",
   "language": "python",
   "name": "python3"
  },
  "language_info": {
   "codemirror_mode": {
    "name": "ipython",
    "version": 3
   },
   "file_extension": ".py",
   "mimetype": "text/x-python",
   "name": "python",
   "nbconvert_exporter": "python",
   "pygments_lexer": "ipython3",
   "version": "3.10.8"
  }
 },
 "nbformat": 4,
 "nbformat_minor": 2
}
